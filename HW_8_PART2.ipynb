{
 "cells": [
  {
   "cell_type": "code",
   "execution_count": 1,
   "metadata": {},
   "outputs": [],
   "source": [
    "import geopandas as gpd"
   ]
  },
  {
   "cell_type": "code",
   "execution_count": 2,
   "metadata": {},
   "outputs": [],
   "source": [
    "import fiona"
   ]
  },
  {
   "cell_type": "code",
   "execution_count": 3,
   "metadata": {},
   "outputs": [],
   "source": [
    "import arcgis"
   ]
  },
  {
   "cell_type": "code",
   "execution_count": 9,
   "metadata": {},
   "outputs": [],
   "source": [
    "import numpy as np"
   ]
  },
  {
   "cell_type": "code",
   "execution_count": 10,
   "metadata": {},
   "outputs": [],
   "source": [
    "import matplotlib.pyplot as plt"
   ]
  },
  {
   "cell_type": "code",
   "execution_count": 11,
   "metadata": {},
   "outputs": [],
   "source": [
    "state = gpd.read_file('C:/Users/cwtow/OneDrive/Documents/CDC Ingo/va.shp')"
   ]
  },
  {
   "cell_type": "code",
   "execution_count": 5,
   "metadata": {},
   "outputs": [
    {
     "data": {
      "text/html": [
       "<div>\n",
       "<style scoped>\n",
       "    .dataframe tbody tr th:only-of-type {\n",
       "        vertical-align: middle;\n",
       "    }\n",
       "\n",
       "    .dataframe tbody tr th {\n",
       "        vertical-align: top;\n",
       "    }\n",
       "\n",
       "    .dataframe thead th {\n",
       "        text-align: right;\n",
       "    }\n",
       "</style>\n",
       "<table border=\"1\" class=\"dataframe\">\n",
       "  <thead>\n",
       "    <tr style=\"text-align: right;\">\n",
       "      <th></th>\n",
       "      <th>NAME</th>\n",
       "      <th>STATE_NAME</th>\n",
       "      <th>STATE_FIPS</th>\n",
       "      <th>CNTY_FIPS</th>\n",
       "      <th>FIPS</th>\n",
       "      <th>AREA</th>\n",
       "      <th>POP1990</th>\n",
       "      <th>POP1997</th>\n",
       "      <th>POP90_SQMI</th>\n",
       "      <th>HOUSEHOLDS</th>\n",
       "      <th>...</th>\n",
       "      <th>UNITS2</th>\n",
       "      <th>UNITS3_9</th>\n",
       "      <th>UNITS10_49</th>\n",
       "      <th>UNITS50_UP</th>\n",
       "      <th>MOBILEHOME</th>\n",
       "      <th>NO_FARMS87</th>\n",
       "      <th>AVG_SIZE87</th>\n",
       "      <th>CROP_ACR87</th>\n",
       "      <th>AVG_SALE87</th>\n",
       "      <th>geometry</th>\n",
       "    </tr>\n",
       "  </thead>\n",
       "  <tbody>\n",
       "    <tr>\n",
       "      <th>0</th>\n",
       "      <td>Frederick</td>\n",
       "      <td>Virginia</td>\n",
       "      <td>51</td>\n",
       "      <td>069</td>\n",
       "      <td>51069</td>\n",
       "      <td>407.4303</td>\n",
       "      <td>45723</td>\n",
       "      <td>53198</td>\n",
       "      <td>112</td>\n",
       "      <td>16470</td>\n",
       "      <td>...</td>\n",
       "      <td>141</td>\n",
       "      <td>430</td>\n",
       "      <td>246</td>\n",
       "      <td>53</td>\n",
       "      <td>2182</td>\n",
       "      <td>555</td>\n",
       "      <td>200</td>\n",
       "      <td>59416</td>\n",
       "      <td>31818</td>\n",
       "      <td>POLYGON ((-78.15459 39.04059, -78.16804 39.021...</td>\n",
       "    </tr>\n",
       "    <tr>\n",
       "      <th>1</th>\n",
       "      <td>Loudoun</td>\n",
       "      <td>Virginia</td>\n",
       "      <td>51</td>\n",
       "      <td>107</td>\n",
       "      <td>51107</td>\n",
       "      <td>529.1818</td>\n",
       "      <td>86129</td>\n",
       "      <td>128719</td>\n",
       "      <td>163</td>\n",
       "      <td>30490</td>\n",
       "      <td>...</td>\n",
       "      <td>188</td>\n",
       "      <td>1137</td>\n",
       "      <td>2903</td>\n",
       "      <td>333</td>\n",
       "      <td>283</td>\n",
       "      <td>934</td>\n",
       "      <td>221</td>\n",
       "      <td>141432</td>\n",
       "      <td>29560</td>\n",
       "      <td>POLYGON ((-77.65736 38.94069, -77.96188 39.011...</td>\n",
       "    </tr>\n",
       "    <tr>\n",
       "      <th>2</th>\n",
       "      <td>Clarke</td>\n",
       "      <td>Virginia</td>\n",
       "      <td>51</td>\n",
       "      <td>043</td>\n",
       "      <td>51043</td>\n",
       "      <td>178.2418</td>\n",
       "      <td>12101</td>\n",
       "      <td>12623</td>\n",
       "      <td>68</td>\n",
       "      <td>4236</td>\n",
       "      <td>...</td>\n",
       "      <td>85</td>\n",
       "      <td>120</td>\n",
       "      <td>50</td>\n",
       "      <td>0</td>\n",
       "      <td>77</td>\n",
       "      <td>315</td>\n",
       "      <td>231</td>\n",
       "      <td>48426</td>\n",
       "      <td>45576</td>\n",
       "      <td>POLYGON ((-78.00311 38.97920, -78.05608 39.019...</td>\n",
       "    </tr>\n",
       "    <tr>\n",
       "      <th>3</th>\n",
       "      <td>Winchester</td>\n",
       "      <td>Virginia</td>\n",
       "      <td>51</td>\n",
       "      <td>840</td>\n",
       "      <td>51840</td>\n",
       "      <td>11.3284</td>\n",
       "      <td>21947</td>\n",
       "      <td>23892</td>\n",
       "      <td>1937</td>\n",
       "      <td>9084</td>\n",
       "      <td>...</td>\n",
       "      <td>537</td>\n",
       "      <td>1620</td>\n",
       "      <td>1225</td>\n",
       "      <td>69</td>\n",
       "      <td>63</td>\n",
       "      <td>-99</td>\n",
       "      <td>-99</td>\n",
       "      <td>-99</td>\n",
       "      <td>-99</td>\n",
       "      <td>POLYGON ((-78.13280 39.19164, -78.13969 39.164...</td>\n",
       "    </tr>\n",
       "    <tr>\n",
       "      <th>4</th>\n",
       "      <td>Shenandoah</td>\n",
       "      <td>Virginia</td>\n",
       "      <td>51</td>\n",
       "      <td>171</td>\n",
       "      <td>51171</td>\n",
       "      <td>503.8462</td>\n",
       "      <td>31636</td>\n",
       "      <td>33824</td>\n",
       "      <td>63</td>\n",
       "      <td>12452</td>\n",
       "      <td>...</td>\n",
       "      <td>474</td>\n",
       "      <td>726</td>\n",
       "      <td>509</td>\n",
       "      <td>172</td>\n",
       "      <td>989</td>\n",
       "      <td>830</td>\n",
       "      <td>167</td>\n",
       "      <td>75566</td>\n",
       "      <td>54172</td>\n",
       "      <td>POLYGON ((-78.64540 38.60870, -78.86681 38.763...</td>\n",
       "    </tr>\n",
       "  </tbody>\n",
       "</table>\n",
       "<p>5 rows × 53 columns</p>\n",
       "</div>"
      ],
      "text/plain": [
       "         NAME STATE_NAME STATE_FIPS CNTY_FIPS   FIPS      AREA  POP1990  \\\n",
       "0   Frederick   Virginia         51       069  51069  407.4303    45723   \n",
       "1     Loudoun   Virginia         51       107  51107  529.1818    86129   \n",
       "2      Clarke   Virginia         51       043  51043  178.2418    12101   \n",
       "3  Winchester   Virginia         51       840  51840   11.3284    21947   \n",
       "4  Shenandoah   Virginia         51       171  51171  503.8462    31636   \n",
       "\n",
       "   POP1997  POP90_SQMI  HOUSEHOLDS  ...  UNITS2  UNITS3_9  UNITS10_49  \\\n",
       "0    53198         112       16470  ...     141       430         246   \n",
       "1   128719         163       30490  ...     188      1137        2903   \n",
       "2    12623          68        4236  ...      85       120          50   \n",
       "3    23892        1937        9084  ...     537      1620        1225   \n",
       "4    33824          63       12452  ...     474       726         509   \n",
       "\n",
       "   UNITS50_UP  MOBILEHOME  NO_FARMS87  AVG_SIZE87  CROP_ACR87  AVG_SALE87  \\\n",
       "0          53        2182         555         200       59416       31818   \n",
       "1         333         283         934         221      141432       29560   \n",
       "2           0          77         315         231       48426       45576   \n",
       "3          69          63         -99         -99         -99         -99   \n",
       "4         172         989         830         167       75566       54172   \n",
       "\n",
       "                                            geometry  \n",
       "0  POLYGON ((-78.15459 39.04059, -78.16804 39.021...  \n",
       "1  POLYGON ((-77.65736 38.94069, -77.96188 39.011...  \n",
       "2  POLYGON ((-78.00311 38.97920, -78.05608 39.019...  \n",
       "3  POLYGON ((-78.13280 39.19164, -78.13969 39.164...  \n",
       "4  POLYGON ((-78.64540 38.60870, -78.86681 38.763...  \n",
       "\n",
       "[5 rows x 53 columns]"
      ]
     },
     "execution_count": 5,
     "metadata": {},
     "output_type": "execute_result"
    }
   ],
   "source": [
    "state.head()"
   ]
  },
  {
   "cell_type": "code",
   "execution_count": 43,
   "metadata": {},
   "outputs": [],
   "source": [
    "pop1997 = state[state['POP1997'] > 200000]"
   ]
  },
  {
   "cell_type": "code",
   "execution_count": 46,
   "metadata": {},
   "outputs": [],
   "source": [
    "population = pop1997['POP1997']"
   ]
  },
  {
   "cell_type": "code",
   "execution_count": 50,
   "metadata": {},
   "outputs": [],
   "source": [
    "location = pop1997['NAME']"
   ]
  },
  {
   "cell_type": "code",
   "execution_count": 52,
   "metadata": {},
   "outputs": [
    {
     "data": {
      "image/png": "[encoded data removed]",
      "text/plain": [
       "<Figure size 432x288 with 1 Axes>"
      ]
     },
     "metadata": {},
     "output_type": "display_data"
    }
   ],
   "source": [
    "%matplotlib inline\n",
    "plt.style.use('ggplot')\n",
    "\n",
    "x = location\n",
    "pop = population\n",
    "\n",
    "x_pos = [i for i, _ in enumerate(x)]\n",
    "\n",
    "plt.bar(x_pos, pop, color='green')\n",
    "plt.xlabel(\"Location\")\n",
    "plt.ylabel(\"Population\")\n",
    "plt.title(\"Population in Virginia\")\n",
    "\n",
    "plt.xticks(x_pos, x)\n",
    "\n",
    "plt.show()"
   ]
  },
  {
   "cell_type": "code",
   "execution_count": null,
   "metadata": {},
   "outputs": [],
   "source": []
  }
 ],
 "metadata": {
  "kernelspec": {
   "display_name": "Python 3",
   "language": "python",
   "name": "python3"
  },
  "language_info": {
   "codemirror_mode": {
    "name": "ipython",
    "version": 3
   },
   "file_extension": ".py",
   "mimetype": "text/x-python",
   "name": "python",
   "nbconvert_exporter": "python",
   "pygments_lexer": "ipython3",
   "version": "3.7.8"
  }
 },
 "nbformat": 4,
 "nbformat_minor": 4
}
