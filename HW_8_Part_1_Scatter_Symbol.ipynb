{
 "cells": [
  {
   "cell_type": "code",
   "execution_count": 1,
   "metadata": {},
   "outputs": [],
   "source": [
    "import pandas as pd"
   ]
  },
  {
   "cell_type": "code",
   "execution_count": 2,
   "metadata": {},
   "outputs": [],
   "source": [
    "import matplotlib.pyplot as plt"
   ]
  },
  {
   "cell_type": "code",
   "execution_count": 3,
   "metadata": {},
   "outputs": [],
   "source": [
    "import numpy as np"
   ]
  },
  {
   "cell_type": "code",
   "execution_count": 4,
   "metadata": {},
   "outputs": [],
   "source": [
    "df = pd.read_csv('salaries1.csv')"
   ]
  },
  {
   "cell_type": "code",
   "execution_count": 5,
   "metadata": {},
   "outputs": [
    {
     "data": {
      "text/html": [
       "<div>\n",
       "<style scoped>\n",
       "    .dataframe tbody tr th:only-of-type {\n",
       "        vertical-align: middle;\n",
       "    }\n",
       "\n",
       "    .dataframe tbody tr th {\n",
       "        vertical-align: top;\n",
       "    }\n",
       "\n",
       "    .dataframe thead th {\n",
       "        text-align: right;\n",
       "    }\n",
       "</style>\n",
       "<table border=\"1\" class=\"dataframe\">\n",
       "  <thead>\n",
       "    <tr style=\"text-align: right;\">\n",
       "      <th></th>\n",
       "      <th>salary</th>\n",
       "      <th>name</th>\n",
       "      <th>total_value</th>\n",
       "      <th>pos</th>\n",
       "      <th>years</th>\n",
       "      <th>avg_annual</th>\n",
       "      <th>team</th>\n",
       "    </tr>\n",
       "  </thead>\n",
       "  <tbody>\n",
       "    <tr>\n",
       "      <th>0</th>\n",
       "      <td>68000</td>\n",
       "      <td>Ken Griffey Jr.</td>\n",
       "      <td>68000</td>\n",
       "      <td>OF</td>\n",
       "      <td>1989</td>\n",
       "      <td>68000</td>\n",
       "      <td>SEA</td>\n",
       "    </tr>\n",
       "    <tr>\n",
       "      <th>1</th>\n",
       "      <td>180000</td>\n",
       "      <td>Ken Griffey Jr.</td>\n",
       "      <td>180000</td>\n",
       "      <td>OF</td>\n",
       "      <td>1990</td>\n",
       "      <td>180000</td>\n",
       "      <td>SEA</td>\n",
       "    </tr>\n",
       "    <tr>\n",
       "      <th>2</th>\n",
       "      <td>535000</td>\n",
       "      <td>Ken Griffey Jr.</td>\n",
       "      <td>535000</td>\n",
       "      <td>OF</td>\n",
       "      <td>1991</td>\n",
       "      <td>535000</td>\n",
       "      <td>SEA</td>\n",
       "    </tr>\n",
       "    <tr>\n",
       "      <th>3</th>\n",
       "      <td>2000000</td>\n",
       "      <td>Ken Griffey Jr.</td>\n",
       "      <td>2000000</td>\n",
       "      <td>OF</td>\n",
       "      <td>1992</td>\n",
       "      <td>2000000</td>\n",
       "      <td>SEA</td>\n",
       "    </tr>\n",
       "    <tr>\n",
       "      <th>4</th>\n",
       "      <td>4000000</td>\n",
       "      <td>Ken Griffey Jr.</td>\n",
       "      <td>4000000</td>\n",
       "      <td>OF</td>\n",
       "      <td>1993</td>\n",
       "      <td>4000000</td>\n",
       "      <td>SEA</td>\n",
       "    </tr>\n",
       "  </tbody>\n",
       "</table>\n",
       "</div>"
      ],
      "text/plain": [
       "    salary             name  total_value pos  years  avg_annual team\n",
       "0    68000  Ken Griffey Jr.        68000  OF   1989       68000  SEA\n",
       "1   180000  Ken Griffey Jr.       180000  OF   1990      180000  SEA\n",
       "2   535000  Ken Griffey Jr.       535000  OF   1991      535000  SEA\n",
       "3  2000000  Ken Griffey Jr.      2000000  OF   1992     2000000  SEA\n",
       "4  4000000  Ken Griffey Jr.      4000000  OF   1993     4000000  SEA"
      ]
     },
     "execution_count": 5,
     "metadata": {},
     "output_type": "execute_result"
    }
   ],
   "source": [
    "df.head()"
   ]
  },
  {
   "cell_type": "code",
   "execution_count": 6,
   "metadata": {},
   "outputs": [],
   "source": [
    "year = df['years']"
   ]
  },
  {
   "cell_type": "code",
   "execution_count": 7,
   "metadata": {},
   "outputs": [],
   "source": [
    "salary = df['total_value']"
   ]
  },
  {
   "cell_type": "code",
   "execution_count": 21,
   "metadata": {},
   "outputs": [
    {
     "data": {
      "image/png": "[encoded data removed]",
      "text/plain": [
       "<Figure size 432x288 with 1 Axes>"
      ]
     },
     "metadata": {
      "needs_background": "light"
     },
     "output_type": "display_data"
    }
   ],
   "source": [
    "plt.scatter(year, salary, marker ='x')\n",
    "\n",
    "plt.xlabel('Year')\n",
    "plt.ylabel('Salary')\n",
    "title = 'Ken Griffey Jr Salary'\n",
    "plt.title(title)\n",
    "plt.show()"
   ]
  },
  {
   "cell_type": "code",
   "execution_count": null,
   "metadata": {},
   "outputs": [],
   "source": []
  }
 ],
 "metadata": {
  "kernelspec": {
   "display_name": "Python 3",
   "language": "python",
   "name": "python3"
  },
  "language_info": {
   "codemirror_mode": {
    "name": "ipython",
    "version": 3
   },
   "file_extension": ".py",
   "mimetype": "text/x-python",
   "name": "python",
   "nbconvert_exporter": "python",
   "pygments_lexer": "ipython3",
   "version": "3.7.8"
  }
 },
 "nbformat": 4,
 "nbformat_minor": 4
}
